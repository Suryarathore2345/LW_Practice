{
 "cells": [
  {
   "cell_type": "code",
   "execution_count": 1,
   "id": "01b49517-4cd9-4149-b2ad-c306ed9679e4",
   "metadata": {},
   "outputs": [],
   "source": [
    "from flask import Flask,request"
   ]
  },
  {
   "cell_type": "code",
   "execution_count": 2,
   "id": "9172838d-d00e-4242-aa35-b977084756a4",
   "metadata": {},
   "outputs": [],
   "source": [
    "app = Flask(__name__)"
   ]
  },
  {
   "cell_type": "code",
   "execution_count": 3,
   "id": "18cea7a9-7964-4b2a-90c3-f405fe403779",
   "metadata": {},
   "outputs": [],
   "source": [
    "@app.route(\"/lw\")\n",
    "def lw():\n",
    "    x=\"Vimal\"\n",
    "    return(x)"
   ]
  },
  {
   "cell_type": "code",
   "execution_count": null,
   "id": "7ee6cd3c-969d-44f4-bc48-6aba9423b75b",
   "metadata": {},
   "outputs": [
    {
     "name": "stdout",
     "output_type": "stream",
     "text": [
      " * Serving Flask app '__main__'\n",
      " * Debug mode: off\n"
     ]
    },
    {
     "name": "stderr",
     "output_type": "stream",
     "text": [
      "WARNING: This is a development server. Do not use it in a production deployment. Use a production WSGI server instead.\n",
      " * Running on all addresses (0.0.0.0)\n",
      " * Running on http://127.0.0.1:80\n",
      " * Running on http://192.168.38.243:80\n",
      "Press CTRL+C to quit\n",
      "127.0.0.1 - - [17/Jul/2024 16:16:37] \"GET /lw HTTP/1.1\" 200 -\n"
     ]
    }
   ],
   "source": [
    "app.run(port=80,host=\"0.0.0.0\")"
   ]
  },
  {
   "cell_type": "code",
   "execution_count": null,
   "id": "88d32e9a-50a8-492f-a46d-c08901bae210",
   "metadata": {},
   "outputs": [],
   "source": []
  },
  {
   "cell_type": "code",
   "execution_count": null,
   "id": "5c0fccd7-a03b-402f-906d-87f9eebebade",
   "metadata": {},
   "outputs": [],
   "source": []
  }
 ],
 "metadata": {
  "kernelspec": {
   "display_name": "Python 3 (ipykernel)",
   "language": "python",
   "name": "python3"
  },
  "language_info": {
   "codemirror_mode": {
    "name": "ipython",
    "version": 3
   },
   "file_extension": ".py",
   "mimetype": "text/x-python",
   "name": "python",
   "nbconvert_exporter": "python",
   "pygments_lexer": "ipython3",
   "version": "3.12.4"
  }
 },
 "nbformat": 4,
 "nbformat_minor": 5
}
