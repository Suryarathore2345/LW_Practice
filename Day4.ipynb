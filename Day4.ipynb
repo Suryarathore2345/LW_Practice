{
 "cells": [
  {
   "cell_type": "code",
   "execution_count": 1,
   "id": "be8b6ec7-bc74-4e54-91f7-85e9bdefcbf4",
   "metadata": {},
   "outputs": [],
   "source": [
    "def lwsum(x,y):\n",
    "    z=x+y\n",
    "    return(z)"
   ]
  },
  {
   "cell_type": "code",
   "execution_count": 2,
   "id": "86882ec4-8c2c-4f12-9438-6285e92b1938",
   "metadata": {},
   "outputs": [],
   "source": [
    "#lwsum(2,7)"
   ]
  },
  {
   "cell_type": "code",
   "execution_count": 3,
   "id": "b9934859-d6d8-427e-b215-0b64f715e535",
   "metadata": {},
   "outputs": [],
   "source": [
    "def lwmail():\n",
    "    return(\"Mail Sent\")"
   ]
  },
  {
   "cell_type": "code",
   "execution_count": 4,
   "id": "41cb19dc-de82-4513-90b8-f3f55fb6e9ad",
   "metadata": {},
   "outputs": [],
   "source": [
    "import flask"
   ]
  },
  {
   "cell_type": "code",
   "execution_count": 5,
   "id": "18c12197-6f6c-4720-b7fb-bd204a0677e9",
   "metadata": {},
   "outputs": [],
   "source": [
    "from flask import Flask "
   ]
  },
  {
   "cell_type": "code",
   "execution_count": 6,
   "id": "495eedcd-e358-41d3-84c0-13915fc34c92",
   "metadata": {},
   "outputs": [],
   "source": [
    "app = Flask(__name__)"
   ]
  },
  {
   "cell_type": "code",
   "execution_count": 7,
   "id": "adf5b938-9fb5-4f0a-8cc9-ed14f764ae03",
   "metadata": {},
   "outputs": [
    {
     "data": {
      "text/plain": [
       "'__main__'"
      ]
     },
     "execution_count": 7,
     "metadata": {},
     "output_type": "execute_result"
    }
   ],
   "source": [
    "__name__"
   ]
  },
  {
   "cell_type": "code",
   "execution_count": 8,
   "id": "87a0ba06-d32a-4431-9451-adc6975f2ce1",
   "metadata": {},
   "outputs": [],
   "source": [
    "@app.route(\"/mail\")\n",
    "def lwmail():\n",
    "    return(\"Mail Sent\")"
   ]
  },
  {
   "cell_type": "code",
   "execution_count": 9,
   "id": "6ac9319a-18d6-4e48-a442-11b7907ebbee",
   "metadata": {},
   "outputs": [],
   "source": [
    "@app.route(\"/sum\")\n",
    "def lwsum(x,y):\n",
    "    z=x+y\n",
    "    return(z)"
   ]
  },
  {
   "cell_type": "code",
   "execution_count": null,
   "id": "b1a62a9e-3024-4c16-9692-5f86e43b0580",
   "metadata": {},
   "outputs": [
    {
     "name": "stdout",
     "output_type": "stream",
     "text": [
      " * Serving Flask app '__main__'\n",
      " * Debug mode: off\n"
     ]
    },
    {
     "name": "stderr",
     "output_type": "stream",
     "text": [
      "WARNING: This is a development server. Do not use it in a production deployment. Use a production WSGI server instead.\n",
      " * Running on all addresses (0.0.0.0)\n",
      " * Running on http://127.0.0.1:80\n",
      " * Running on http://192.168.20.124:80\n",
      "Press CTRL+C to quit\n"
     ]
    }
   ],
   "source": [
    "app.run(port=80,host=\"0.0.0.0\")"
   ]
  },
  {
   "cell_type": "code",
   "execution_count": null,
   "id": "886a43be-83e7-4ca3-8a9f-658829140f7f",
   "metadata": {},
   "outputs": [
    {
     "name": "stdout",
     "output_type": "stream",
     "text": [
      " * Serving Flask app '__main__'\n",
      " * Debug mode: off\n"
     ]
    },
    {
     "name": "stderr",
     "output_type": "stream",
     "text": [
      "WARNING: This is a development server. Do not use it in a production deployment. Use a production WSGI server instead.\n",
      " * Running on http://127.0.0.1:5000\n",
      "Press CTRL+C to quit\n",
      "127.0.0.1 - - [13/Jul/2024 23:57:10] \"GET / HTTP/1.1\" 200 -\n",
      "127.0.0.1 - - [13/Jul/2024 23:57:10] \"GET /favicon.ico HTTP/1.1\" 404 -\n",
      "127.0.0.1 - - [13/Jul/2024 23:57:23] \"GET /multiply HTTP/1.1\" 200 -\n"
     ]
    }
   ],
   "source": [
    "from flask import Flask, request\n",
    "\n",
    "app = Flask(__name__)\n",
    "\n",
    "# Function to add two numbers\n",
    "def ssr_add(num1, num2):\n",
    "    return num1 + num2\n",
    "\n",
    "# Function to subtract two numbers\n",
    "def ssr_subtract(num1, num2):\n",
    "    return num1 - num2\n",
    "\n",
    "# Function to multiply two numbers\n",
    "def ssr_multiply(num1, num2):\n",
    "    return num1 * num2\n",
    "\n",
    "# Function to divide two numbers\n",
    "def ssr_divide(num1, num2):\n",
    "    if num2 == 0:\n",
    "        return \"Error: Division by zero!\"\n",
    "    return num1 / num2\n",
    "\n",
    "# Function to calculate the power of a number\n",
    "def ssr_power(base, exponent):\n",
    "    return base ** exponent\n",
    "\n",
    "# Flask routes\n",
    "@app.route('/')\n",
    "def index():\n",
    "    return 'Welcome to SSR Calculator!'\n",
    "\n",
    "@app.route('/add')\n",
    "def add():\n",
    "    num1 = float(request.args.get('num1', 0))\n",
    "    num2 = float(request.args.get('num2', 0))\n",
    "    result = ssr_add(num1, num2)\n",
    "    return f'{{\"result\": {result}}}'\n",
    "\n",
    "@app.route('/subtract')\n",
    "def subtract():\n",
    "    num1 = float(request.args.get('num1', 0))\n",
    "    num2 = float(request.args.get('num2', 0))\n",
    "    result = ssr_subtract(num1, num2)\n",
    "    return f'{{\"result\": {result}}}'\n",
    "\n",
    "@app.route('/multiply')\n",
    "def multiply():\n",
    "    num1 = float(request.args.get('num1', 0))\n",
    "    num2 = float(request.args.get('num2', 0))\n",
    "    result = ssr_multiply(num1, num2)\n",
    "    return f'{{\"result\": {result}}}'\n",
    "\n",
    "@app.route('/divide')\n",
    "def divide():\n",
    "    num1 = float(request.args.get('num1', 0))\n",
    "    num2 = float(request.args.get('num2', 1))  # Default to avoid division by zero\n",
    "    result = ssr_divide(num1, num2)\n",
    "    return f'{{\"result\": {result}}}'\n",
    "\n",
    "@app.route('/power')\n",
    "def power():\n",
    "    base = float(request.args.get('base', 0))\n",
    "    exponent = float(request.args.get('exponent', 1))\n",
    "    result = ssr_power(base, exponent)\n",
    "    return f'{{\"result\": {result}}}'\n",
    "\n",
    "if __name__ == '__main__':\n",
    "    app.run()\n"
   ]
  },
  {
   "cell_type": "code",
   "execution_count": null,
   "id": "dc57cf69-bc7a-4582-8cee-0a770fc354e6",
   "metadata": {},
   "outputs": [],
   "source": []
  }
 ],
 "metadata": {
  "kernelspec": {
   "display_name": "Python 3 (ipykernel)",
   "language": "python",
   "name": "python3"
  },
  "language_info": {
   "codemirror_mode": {
    "name": "ipython",
    "version": 3
   },
   "file_extension": ".py",
   "mimetype": "text/x-python",
   "name": "python",
   "nbconvert_exporter": "python",
   "pygments_lexer": "ipython3",
   "version": "3.12.4"
  }
 },
 "nbformat": 4,
 "nbformat_minor": 5
}
