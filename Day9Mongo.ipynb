{
 "cells": [
  {
   "cell_type": "code",
   "execution_count": 1,
   "id": "2c10c43e-0c74-4cb8-a294-e1bc6c1d963a",
   "metadata": {},
   "outputs": [],
   "source": [
    "import pymongo"
   ]
  },
  {
   "cell_type": "code",
   "execution_count": 2,
   "id": "5a62cbd7-b118-4afd-ab52-831d71036b8f",
   "metadata": {},
   "outputs": [
    {
     "data": {
      "text/plain": [
       "['ASCENDING',\n",
       " 'ContextManager',\n",
       " 'CursorType',\n",
       " 'DESCENDING',\n",
       " 'DeleteMany',\n",
       " 'DeleteOne',\n",
       " 'GEO2D',\n",
       " 'GEOSPHERE',\n",
       " 'HASHED',\n",
       " 'IndexModel',\n",
       " 'InsertOne',\n",
       " 'MAX_SUPPORTED_WIRE_VERSION',\n",
       " 'MIN_SUPPORTED_WIRE_VERSION',\n",
       " 'MongoClient',\n",
       " 'Optional',\n",
       " 'ReadPreference',\n",
       " 'ReplaceOne',\n",
       " 'ReturnDocument',\n",
       " 'TEXT',\n",
       " 'UpdateMany',\n",
       " 'UpdateOne',\n",
       " 'WriteConcern',\n",
       " '__all__',\n",
       " '__builtins__',\n",
       " '__cached__',\n",
       " '__doc__',\n",
       " '__file__',\n",
       " '__loader__',\n",
       " '__name__',\n",
       " '__package__',\n",
       " '__path__',\n",
       " '__spec__',\n",
       " '__version__',\n",
       " '_cmessage',\n",
       " '_csot',\n",
       " '_version',\n",
       " 'aggregation',\n",
       " 'annotations',\n",
       " 'bulk',\n",
       " 'change_stream',\n",
       " 'client_options',\n",
       " 'client_session',\n",
       " 'collation',\n",
       " 'collection',\n",
       " 'command_cursor',\n",
       " 'common',\n",
       " 'compression_support',\n",
       " 'cursor',\n",
       " 'database',\n",
       " 'driver_info',\n",
       " 'errors',\n",
       " 'get_version_string',\n",
       " 'has_c',\n",
       " 'hello',\n",
       " 'helpers',\n",
       " 'lock',\n",
       " 'logger',\n",
       " 'max_staleness_selectors',\n",
       " 'message',\n",
       " 'mongo_client',\n",
       " 'monitor',\n",
       " 'monitoring',\n",
       " 'network',\n",
       " 'ocsp_cache',\n",
       " 'ocsp_support',\n",
       " 'operations',\n",
       " 'periodic_executor',\n",
       " 'pool',\n",
       " 'pyopenssl_context',\n",
       " 'read_concern',\n",
       " 'read_preferences',\n",
       " 'response',\n",
       " 'results',\n",
       " 'server',\n",
       " 'server_api',\n",
       " 'server_description',\n",
       " 'server_selectors',\n",
       " 'server_type',\n",
       " 'settings',\n",
       " 'socket_checker',\n",
       " 'srv_resolver',\n",
       " 'ssl_support',\n",
       " 'timeout',\n",
       " 'topology',\n",
       " 'topology_description',\n",
       " 'typings',\n",
       " 'uri_parser',\n",
       " 'version',\n",
       " 'version_tuple',\n",
       " 'write_concern']"
      ]
     },
     "execution_count": 2,
     "metadata": {},
     "output_type": "execute_result"
    }
   ],
   "source": [
    "dir(pymongo)"
   ]
  },
  {
   "cell_type": "code",
   "execution_count": 4,
   "id": "574e73cf-79fe-45bc-8a0e-9fadbddf9d90",
   "metadata": {},
   "outputs": [],
   "source": [
    "dbconnect=pymongo.MongoClient(\"mongodb://127.0.0.1:27017\")"
   ]
  },
  {
   "cell_type": "code",
   "execution_count": 5,
   "id": "70c6f161-4504-48a2-b528-d4450098ff21",
   "metadata": {},
   "outputs": [
    {
     "data": {
      "text/plain": [
       "['LinuxWorld', 'admin', 'config', 'jazbaa', 'local']"
      ]
     },
     "execution_count": 5,
     "metadata": {},
     "output_type": "execute_result"
    }
   ],
   "source": [
    "dbconnect.list_database_names()"
   ]
  },
  {
   "cell_type": "code",
   "execution_count": 6,
   "id": "5d30e44d-6ea9-4856-8a14-c0a139037d13",
   "metadata": {},
   "outputs": [],
   "source": [
    "dbname = dbconnect[\"INIT\"]"
   ]
  },
  {
   "cell_type": "code",
   "execution_count": 7,
   "id": "8c0d3b28-9d33-48e4-ba74-3e095609c6ce",
   "metadata": {},
   "outputs": [],
   "source": [
    "dbcollection = dbname[\"Company\"]"
   ]
  },
  {
   "cell_type": "code",
   "execution_count": 8,
   "id": "2e17293e-0dc4-4575-bb1b-2b55250f1f3c",
   "metadata": {},
   "outputs": [
    {
     "data": {
      "text/plain": [
       "['LinuxWorld', 'admin', 'config', 'jazbaa', 'local']"
      ]
     },
     "execution_count": 8,
     "metadata": {},
     "output_type": "execute_result"
    }
   ],
   "source": [
    "dbconnect.list_database_names()"
   ]
  },
  {
   "cell_type": "code",
   "execution_count": 9,
   "id": "ae9f3747-eebd-496d-909c-dbf0c3fcc534",
   "metadata": {},
   "outputs": [
    {
     "data": {
      "text/plain": [
       "InsertOneResult(ObjectId('66977a4a125a94a646aeae4b'), acknowledged=True)"
      ]
     },
     "execution_count": 9,
     "metadata": {},
     "output_type": "execute_result"
    }
   ],
   "source": [
    "dbcollection.insert_one(\n",
    "    {\n",
    "        \"C_name\":\"IBM\",\n",
    "        \"Location\":\"Bengluru\"\n",
    "    }\n",
    ")"
   ]
  },
  {
   "cell_type": "code",
   "execution_count": 10,
   "id": "0455ceb1-0137-4a06-924f-c305bd10c88f",
   "metadata": {},
   "outputs": [
    {
     "data": {
      "text/plain": [
       "{'_id': ObjectId('66977a4a125a94a646aeae4b'),\n",
       " 'C_name': 'IBM',\n",
       " 'Location': 'Bengluru'}"
      ]
     },
     "execution_count": 10,
     "metadata": {},
     "output_type": "execute_result"
    }
   ],
   "source": [
    "dbcollection.find_one()"
   ]
  },
  {
   "cell_type": "code",
   "execution_count": 11,
   "id": "b77a54be-bc81-451f-b1f4-98ba18bc520a",
   "metadata": {},
   "outputs": [
    {
     "data": {
      "text/plain": [
       "InsertOneResult(ObjectId('66977ac2125a94a646aeae4c'), acknowledged=True)"
      ]
     },
     "execution_count": 11,
     "metadata": {},
     "output_type": "execute_result"
    }
   ],
   "source": [
    "dbcollection.insert_one(\n",
    "    {\n",
    "        \"C_name\":\"Google\",\n",
    "        \"Location\":\"US\"\n",
    "    }\n",
    ")"
   ]
  },
  {
   "cell_type": "code",
   "execution_count": 12,
   "id": "343712f9-bab7-4008-8004-b39c3ac82995",
   "metadata": {},
   "outputs": [
    {
     "data": {
      "text/plain": [
       "{'_id': ObjectId('66977a4a125a94a646aeae4b'),\n",
       " 'C_name': 'IBM',\n",
       " 'Location': 'Bengluru'}"
      ]
     },
     "execution_count": 12,
     "metadata": {},
     "output_type": "execute_result"
    }
   ],
   "source": [
    "dbcollection.find_one()"
   ]
  },
  {
   "cell_type": "code",
   "execution_count": 13,
   "id": "0265e3ca-6393-4a6a-9553-29907c0b7f30",
   "metadata": {},
   "outputs": [
    {
     "data": {
      "text/plain": [
       "<pymongo.cursor.Cursor at 0x11229877440>"
      ]
     },
     "execution_count": 13,
     "metadata": {},
     "output_type": "execute_result"
    }
   ],
   "source": [
    "dbcollection.find()"
   ]
  },
  {
   "cell_type": "code",
   "execution_count": null,
   "id": "1caf9a4a-71f9-4751-8e67-321ff5f72307",
   "metadata": {},
   "outputs": [],
   "source": []
  },
  {
   "cell_type": "code",
   "execution_count": 15,
   "id": "98b3fb85-ed3f-4a4d-b1c0-77f4d6316c5b",
   "metadata": {},
   "outputs": [],
   "source": [
    "y=[1,2,3,4,5,6,7]"
   ]
  },
  {
   "cell_type": "code",
   "execution_count": 16,
   "id": "39e2104b-4e2b-43c1-9963-daff10d5cb6f",
   "metadata": {},
   "outputs": [
    {
     "data": {
      "text/plain": [
       "[1, 2, 3, 4, 5, 6, 7]"
      ]
     },
     "execution_count": 16,
     "metadata": {},
     "output_type": "execute_result"
    }
   ],
   "source": [
    "y"
   ]
  },
  {
   "cell_type": "code",
   "execution_count": 17,
   "id": "89171e68-5e73-4185-8a90-47b740d5508e",
   "metadata": {},
   "outputs": [
    {
     "name": "stdout",
     "output_type": "stream",
     "text": [
      "1\n",
      "2\n",
      "3\n",
      "4\n",
      "5\n",
      "6\n",
      "7\n"
     ]
    }
   ],
   "source": [
    "for i in y:\n",
    "    print(i)\n",
    "    "
   ]
  },
  {
   "cell_type": "code",
   "execution_count": 18,
   "id": "1d1fdc28-e48a-4144-9828-84c0b8cb272e",
   "metadata": {},
   "outputs": [
    {
     "name": "stdout",
     "output_type": "stream",
     "text": [
      "{'_id': ObjectId('66977a4a125a94a646aeae4b'), 'C_name': 'IBM', 'Location': 'Bengluru'}\n",
      "{'_id': ObjectId('66977ac2125a94a646aeae4c'), 'C_name': 'Google', 'Location': 'US'}\n"
     ]
    }
   ],
   "source": [
    "for i in dbcollection.find():\n",
    "    print(i)"
   ]
  },
  {
   "cell_type": "code",
   "execution_count": 19,
   "id": "3a881329-caa3-495b-9ff2-ad3bbbdfacd5",
   "metadata": {},
   "outputs": [
    {
     "data": {
      "text/plain": [
       "InsertManyResult([ObjectId('66977ef9125a94a646aeae4d'), ObjectId('66977ef9125a94a646aeae4e')], acknowledged=True)"
      ]
     },
     "execution_count": 19,
     "metadata": {},
     "output_type": "execute_result"
    }
   ],
   "source": [
    "dbcollection.insert_many(\n",
    "    [\n",
    "        {\n",
    "            \"Cname\":\"Redhat\",\n",
    "            \"Location\":\"jaipur\"\n",
    "        },\n",
    "        {\n",
    "            \"Cname\":\"Infosys\",\n",
    "            \"Location\":\"Pune\"            \n",
    "        }\n",
    "    ]\n",
    ")"
   ]
  },
  {
   "cell_type": "code",
   "execution_count": 20,
   "id": "b968c657-7806-428b-ad78-22b4ff39c33b",
   "metadata": {},
   "outputs": [
    {
     "name": "stdout",
     "output_type": "stream",
     "text": [
      "{'_id': ObjectId('66977a4a125a94a646aeae4b'), 'C_name': 'IBM', 'Location': 'Bengluru'}\n",
      "{'_id': ObjectId('66977ac2125a94a646aeae4c'), 'C_name': 'Google', 'Location': 'US'}\n",
      "{'_id': ObjectId('66977ef9125a94a646aeae4d'), 'Cname': 'Redhat', 'Location': 'jaipur'}\n",
      "{'_id': ObjectId('66977ef9125a94a646aeae4e'), 'Cname': 'Infosys', 'Location': 'Pune'}\n"
     ]
    }
   ],
   "source": [
    "for i in dbcollection.find():\n",
    "    print(i)"
   ]
  },
  {
   "cell_type": "code",
   "execution_count": null,
   "id": "e9dd3c3c-d6fb-4deb-b7b6-322f15385c55",
   "metadata": {},
   "outputs": [],
   "source": []
  }
 ],
 "metadata": {
  "kernelspec": {
   "display_name": "Python 3 (ipykernel)",
   "language": "python",
   "name": "python3"
  },
  "language_info": {
   "codemirror_mode": {
    "name": "ipython",
    "version": 3
   },
   "file_extension": ".py",
   "mimetype": "text/x-python",
   "name": "python",
   "nbconvert_exporter": "python",
   "pygments_lexer": "ipython3",
   "version": "3.12.4"
  }
 },
 "nbformat": 4,
 "nbformat_minor": 5
}
